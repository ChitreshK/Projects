{
 "cells": [
  {
   "cell_type": "code",
   "execution_count": 1,
   "metadata": {},
   "outputs": [],
   "source": [
    "import pandas as pd\n",
    "import numpy as np\n",
    "import plotly         \n",
    "import plotly.io as pio\n",
    "import plotly.graph_objects as go"
   ]
  },
  {
   "cell_type": "code",
   "execution_count": 2,
   "metadata": {},
   "outputs": [],
   "source": [
    "match_data=pd.read_csv(\"IPL Matches 2008-2020.csv\")\n",
    "match_data[\"season\"]=pd.DatetimeIndex(match_data[\"date\"]).year\n",
    "col=[\"season\",\"team\",\"stadium\",\"wins\"]\n",
    "question1=pd.DataFrame(columns=col)"
   ]
  },
  {
   "cell_type": "code",
   "execution_count": 3,
   "metadata": {},
   "outputs": [],
   "source": [
    "stadiums=match_data[\"venue\"].unique()\n",
    "teams=match_data[\"team1\"].unique()\n",
    "seasons=match_data[\"season\"].unique()\n",
    "i=0\n",
    "for season in seasons:\n",
    "    for team in teams:\n",
    "        for stadium in stadiums:\n",
    "            question1.loc[i,\"season\"]=season\n",
    "            question1.loc[i,\"team\"]=team\n",
    "            question1.loc[i,\"stadium\"]=stadium\n",
    "            idx=match_data[(match_data[\"season\"]==season) & (match_data[\"winner\"]==team) & (match_data[\"venue\"]==stadium)].index\n",
    "            question1.loc[i,\"wins\"]=len(idx)\n",
    "            i+=1\n",
    "        \n",
    "question1[\"wins\"]=question1[\"wins\"].apply(pd.to_numeric)  \n",
    "question1[\"season\"]=question1[\"season\"].apply(pd.to_numeric)"
   ]
  },
  {
   "cell_type": "code",
   "execution_count": 4,
   "metadata": {},
   "outputs": [
    {
     "data": {
      "text/html": [
       "<div>\n",
       "<style scoped>\n",
       "    .dataframe tbody tr th:only-of-type {\n",
       "        vertical-align: middle;\n",
       "    }\n",
       "\n",
       "    .dataframe tbody tr th {\n",
       "        vertical-align: top;\n",
       "    }\n",
       "\n",
       "    .dataframe thead th {\n",
       "        text-align: right;\n",
       "    }\n",
       "</style>\n",
       "<table border=\"1\" class=\"dataframe\">\n",
       "  <thead>\n",
       "    <tr style=\"text-align: right;\">\n",
       "      <th></th>\n",
       "      <th>season</th>\n",
       "      <th>team</th>\n",
       "      <th>stadium</th>\n",
       "      <th>wins</th>\n",
       "    </tr>\n",
       "  </thead>\n",
       "  <tbody>\n",
       "    <tr>\n",
       "      <th>0</th>\n",
       "      <td>2008</td>\n",
       "      <td>Royal Challengers Bangalore</td>\n",
       "      <td>M Chinnaswamy Stadium</td>\n",
       "      <td>1</td>\n",
       "    </tr>\n",
       "    <tr>\n",
       "      <th>1</th>\n",
       "      <td>2008</td>\n",
       "      <td>Royal Challengers Bangalore</td>\n",
       "      <td>Punjab Cricket Association Stadium, Mohali</td>\n",
       "      <td>0</td>\n",
       "    </tr>\n",
       "    <tr>\n",
       "      <th>2</th>\n",
       "      <td>2008</td>\n",
       "      <td>Royal Challengers Bangalore</td>\n",
       "      <td>Feroz Shah Kotla</td>\n",
       "      <td>0</td>\n",
       "    </tr>\n",
       "    <tr>\n",
       "      <th>3</th>\n",
       "      <td>2008</td>\n",
       "      <td>Royal Challengers Bangalore</td>\n",
       "      <td>Wankhede Stadium</td>\n",
       "      <td>1</td>\n",
       "    </tr>\n",
       "    <tr>\n",
       "      <th>4</th>\n",
       "      <td>2008</td>\n",
       "      <td>Royal Challengers Bangalore</td>\n",
       "      <td>Eden Gardens</td>\n",
       "      <td>0</td>\n",
       "    </tr>\n",
       "  </tbody>\n",
       "</table>\n",
       "</div>"
      ],
      "text/plain": [
       "   season                         team  \\\n",
       "0    2008  Royal Challengers Bangalore   \n",
       "1    2008  Royal Challengers Bangalore   \n",
       "2    2008  Royal Challengers Bangalore   \n",
       "3    2008  Royal Challengers Bangalore   \n",
       "4    2008  Royal Challengers Bangalore   \n",
       "\n",
       "                                      stadium  wins  \n",
       "0                       M Chinnaswamy Stadium     1  \n",
       "1  Punjab Cricket Association Stadium, Mohali     0  \n",
       "2                            Feroz Shah Kotla     0  \n",
       "3                            Wankhede Stadium     1  \n",
       "4                                Eden Gardens     0  "
      ]
     },
     "execution_count": 4,
     "metadata": {},
     "output_type": "execute_result"
    }
   ],
   "source": [
    "question1.head()"
   ]
  },
  {
   "cell_type": "code",
   "execution_count": 5,
   "metadata": {},
   "outputs": [],
   "source": [
    "question1.to_csv(\"C:/Users/navya/Desktop/DEproject/questions_csv/plot1.csv\",index=False)"
   ]
  },
  {
   "cell_type": "code",
   "execution_count": null,
   "metadata": {},
   "outputs": [],
   "source": []
  }
 ],
 "metadata": {
  "kernelspec": {
   "display_name": "Python 3",
   "language": "python",
   "name": "python3"
  },
  "language_info": {
   "codemirror_mode": {
    "name": "ipython",
    "version": 3
   },
   "file_extension": ".py",
   "mimetype": "text/x-python",
   "name": "python",
   "nbconvert_exporter": "python",
   "pygments_lexer": "ipython3",
   "version": "3.8.5"
  }
 },
 "nbformat": 4,
 "nbformat_minor": 4
}
